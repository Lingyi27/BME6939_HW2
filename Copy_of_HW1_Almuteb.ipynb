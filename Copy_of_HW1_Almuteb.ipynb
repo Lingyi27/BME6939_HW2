{
  "nbformat": 4,
  "nbformat_minor": 0,
  "metadata": {
    "colab": {
      "name": "Copy of HW1_Almuteb.ipynb",
      "provenance": [],
      "collapsed_sections": [],
      "include_colab_link": true
    },
    "kernelspec": {
      "name": "python3",
      "display_name": "Python 3"
    },
    "accelerator": "GPU"
  },
  "cells": [
    {
      "cell_type": "markdown",
      "metadata": {
        "id": "view-in-github",
        "colab_type": "text"
      },
      "source": [
        "<a href=\"https://colab.research.google.com/github/Lingyi27/BME6939_HW2/blob/master/Copy_of_HW1_Almuteb.ipynb\" target=\"_parent\"><img src=\"https://colab.research.google.com/assets/colab-badge.svg\" alt=\"Open In Colab\"/></a>"
      ]
    },
    {
      "cell_type": "markdown",
      "metadata": {
        "id": "MepKE_LmyZKt"
      },
      "source": [
        "# Importing Libraries"
      ]
    },
    {
      "cell_type": "code",
      "metadata": {
        "id": "uEk1QfYuyb9E"
      },
      "source": [
        "# Import pandas\n",
        "import pandas as pd\n",
        "# Import numpy\n",
        "import numpy as np\n",
        "# Import seaborn\n",
        "import seaborn as sns"
      ],
      "execution_count": 4,
      "outputs": []
    },
    {
      "cell_type": "markdown",
      "metadata": {
        "id": "hALXocRH1vBZ"
      },
      "source": [
        "#  Loading the dataset "
      ]
    },
    {
      "cell_type": "code",
      "metadata": {
        "id": "CbIt64Ui12fn",
        "outputId": "3970292b-06b3-473a-f970-10cf18bea0b2",
        "colab": {
          "base_uri": "https://localhost:8080/",
          "height": 35
        }
      },
      "source": [
        "from google.colab import drive \n",
        "drive.mount('/content/drive')"
      ],
      "execution_count": 5,
      "outputs": [
        {
          "output_type": "stream",
          "text": [
            "Drive already mounted at /content/drive; to attempt to forcibly remount, call drive.mount(\"/content/drive\", force_remount=True).\n"
          ],
          "name": "stdout"
        }
      ]
    },
    {
      "cell_type": "markdown",
      "metadata": {
        "id": "Hl48s66M2ytW"
      },
      "source": [
        "!! Your file location might be different. \n",
        "\n",
        "\n"
      ]
    },
    {
      "cell_type": "code",
      "metadata": {
        "id": "qPzwPink20IP",
        "outputId": "b09f6628-d6b4-4f90-c9f1-f2cddcd676b8",
        "colab": {
          "base_uri": "https://localhost:8080/",
          "height": 433
        }
      },
      "source": [
        "\n",
        "HW1_data = pd.read_csv('drive/My Drive/Colab Notebooks/Data/HW1/post-operative.data', names= ['L-CORE', 'L-SURF', 'L-O2', 'L-BP', 'SURF-STBL', 'CORE-STBL', 'BP-STBL',\n",
        "       'COMFORT', 'Decision'])"
      ],
      "execution_count": 6,
      "outputs": [
        {
          "output_type": "error",
          "ename": "FileNotFoundError",
          "evalue": "ignored",
          "traceback": [
            "\u001b[0;31m---------------------------------------------------------------------------\u001b[0m",
            "\u001b[0;31mFileNotFoundError\u001b[0m                         Traceback (most recent call last)",
            "\u001b[0;32m<ipython-input-6-2189a0fa49dc>\u001b[0m in \u001b[0;36m<module>\u001b[0;34m()\u001b[0m\n\u001b[1;32m      1\u001b[0m \u001b[0;34m\u001b[0m\u001b[0m\n\u001b[1;32m      2\u001b[0m HW1_data = pd.read_csv('drive/My Drive/Colab Notebooks/Data/HW1/post-operative.data', names= ['L-CORE', 'L-SURF', 'L-O2', 'L-BP', 'SURF-STBL', 'CORE-STBL', 'BP-STBL',\n\u001b[0;32m----> 3\u001b[0;31m        'COMFORT', 'Decision'])\n\u001b[0m",
            "\u001b[0;32m/usr/local/lib/python3.6/dist-packages/pandas/io/parsers.py\u001b[0m in \u001b[0;36mread_csv\u001b[0;34m(filepath_or_buffer, sep, delimiter, header, names, index_col, usecols, squeeze, prefix, mangle_dupe_cols, dtype, engine, converters, true_values, false_values, skipinitialspace, skiprows, skipfooter, nrows, na_values, keep_default_na, na_filter, verbose, skip_blank_lines, parse_dates, infer_datetime_format, keep_date_col, date_parser, dayfirst, cache_dates, iterator, chunksize, compression, thousands, decimal, lineterminator, quotechar, quoting, doublequote, escapechar, comment, encoding, dialect, error_bad_lines, warn_bad_lines, delim_whitespace, low_memory, memory_map, float_precision)\u001b[0m\n\u001b[1;32m    684\u001b[0m     )\n\u001b[1;32m    685\u001b[0m \u001b[0;34m\u001b[0m\u001b[0m\n\u001b[0;32m--> 686\u001b[0;31m     \u001b[0;32mreturn\u001b[0m \u001b[0m_read\u001b[0m\u001b[0;34m(\u001b[0m\u001b[0mfilepath_or_buffer\u001b[0m\u001b[0;34m,\u001b[0m \u001b[0mkwds\u001b[0m\u001b[0;34m)\u001b[0m\u001b[0;34m\u001b[0m\u001b[0;34m\u001b[0m\u001b[0m\n\u001b[0m\u001b[1;32m    687\u001b[0m \u001b[0;34m\u001b[0m\u001b[0m\n\u001b[1;32m    688\u001b[0m \u001b[0;34m\u001b[0m\u001b[0m\n",
            "\u001b[0;32m/usr/local/lib/python3.6/dist-packages/pandas/io/parsers.py\u001b[0m in \u001b[0;36m_read\u001b[0;34m(filepath_or_buffer, kwds)\u001b[0m\n\u001b[1;32m    450\u001b[0m \u001b[0;34m\u001b[0m\u001b[0m\n\u001b[1;32m    451\u001b[0m     \u001b[0;31m# Create the parser.\u001b[0m\u001b[0;34m\u001b[0m\u001b[0;34m\u001b[0m\u001b[0;34m\u001b[0m\u001b[0m\n\u001b[0;32m--> 452\u001b[0;31m     \u001b[0mparser\u001b[0m \u001b[0;34m=\u001b[0m \u001b[0mTextFileReader\u001b[0m\u001b[0;34m(\u001b[0m\u001b[0mfp_or_buf\u001b[0m\u001b[0;34m,\u001b[0m \u001b[0;34m**\u001b[0m\u001b[0mkwds\u001b[0m\u001b[0;34m)\u001b[0m\u001b[0;34m\u001b[0m\u001b[0;34m\u001b[0m\u001b[0m\n\u001b[0m\u001b[1;32m    453\u001b[0m \u001b[0;34m\u001b[0m\u001b[0m\n\u001b[1;32m    454\u001b[0m     \u001b[0;32mif\u001b[0m \u001b[0mchunksize\u001b[0m \u001b[0;32mor\u001b[0m \u001b[0miterator\u001b[0m\u001b[0;34m:\u001b[0m\u001b[0;34m\u001b[0m\u001b[0;34m\u001b[0m\u001b[0m\n",
            "\u001b[0;32m/usr/local/lib/python3.6/dist-packages/pandas/io/parsers.py\u001b[0m in \u001b[0;36m__init__\u001b[0;34m(self, f, engine, **kwds)\u001b[0m\n\u001b[1;32m    934\u001b[0m             \u001b[0mself\u001b[0m\u001b[0;34m.\u001b[0m\u001b[0moptions\u001b[0m\u001b[0;34m[\u001b[0m\u001b[0;34m\"has_index_names\"\u001b[0m\u001b[0;34m]\u001b[0m \u001b[0;34m=\u001b[0m \u001b[0mkwds\u001b[0m\u001b[0;34m[\u001b[0m\u001b[0;34m\"has_index_names\"\u001b[0m\u001b[0;34m]\u001b[0m\u001b[0;34m\u001b[0m\u001b[0;34m\u001b[0m\u001b[0m\n\u001b[1;32m    935\u001b[0m \u001b[0;34m\u001b[0m\u001b[0m\n\u001b[0;32m--> 936\u001b[0;31m         \u001b[0mself\u001b[0m\u001b[0;34m.\u001b[0m\u001b[0m_make_engine\u001b[0m\u001b[0;34m(\u001b[0m\u001b[0mself\u001b[0m\u001b[0;34m.\u001b[0m\u001b[0mengine\u001b[0m\u001b[0;34m)\u001b[0m\u001b[0;34m\u001b[0m\u001b[0;34m\u001b[0m\u001b[0m\n\u001b[0m\u001b[1;32m    937\u001b[0m \u001b[0;34m\u001b[0m\u001b[0m\n\u001b[1;32m    938\u001b[0m     \u001b[0;32mdef\u001b[0m \u001b[0mclose\u001b[0m\u001b[0;34m(\u001b[0m\u001b[0mself\u001b[0m\u001b[0;34m)\u001b[0m\u001b[0;34m:\u001b[0m\u001b[0;34m\u001b[0m\u001b[0;34m\u001b[0m\u001b[0m\n",
            "\u001b[0;32m/usr/local/lib/python3.6/dist-packages/pandas/io/parsers.py\u001b[0m in \u001b[0;36m_make_engine\u001b[0;34m(self, engine)\u001b[0m\n\u001b[1;32m   1166\u001b[0m     \u001b[0;32mdef\u001b[0m \u001b[0m_make_engine\u001b[0m\u001b[0;34m(\u001b[0m\u001b[0mself\u001b[0m\u001b[0;34m,\u001b[0m \u001b[0mengine\u001b[0m\u001b[0;34m=\u001b[0m\u001b[0;34m\"c\"\u001b[0m\u001b[0;34m)\u001b[0m\u001b[0;34m:\u001b[0m\u001b[0;34m\u001b[0m\u001b[0;34m\u001b[0m\u001b[0m\n\u001b[1;32m   1167\u001b[0m         \u001b[0;32mif\u001b[0m \u001b[0mengine\u001b[0m \u001b[0;34m==\u001b[0m \u001b[0;34m\"c\"\u001b[0m\u001b[0;34m:\u001b[0m\u001b[0;34m\u001b[0m\u001b[0;34m\u001b[0m\u001b[0m\n\u001b[0;32m-> 1168\u001b[0;31m             \u001b[0mself\u001b[0m\u001b[0;34m.\u001b[0m\u001b[0m_engine\u001b[0m \u001b[0;34m=\u001b[0m \u001b[0mCParserWrapper\u001b[0m\u001b[0;34m(\u001b[0m\u001b[0mself\u001b[0m\u001b[0;34m.\u001b[0m\u001b[0mf\u001b[0m\u001b[0;34m,\u001b[0m \u001b[0;34m**\u001b[0m\u001b[0mself\u001b[0m\u001b[0;34m.\u001b[0m\u001b[0moptions\u001b[0m\u001b[0;34m)\u001b[0m\u001b[0;34m\u001b[0m\u001b[0;34m\u001b[0m\u001b[0m\n\u001b[0m\u001b[1;32m   1169\u001b[0m         \u001b[0;32melse\u001b[0m\u001b[0;34m:\u001b[0m\u001b[0;34m\u001b[0m\u001b[0;34m\u001b[0m\u001b[0m\n\u001b[1;32m   1170\u001b[0m             \u001b[0;32mif\u001b[0m \u001b[0mengine\u001b[0m \u001b[0;34m==\u001b[0m \u001b[0;34m\"python\"\u001b[0m\u001b[0;34m:\u001b[0m\u001b[0;34m\u001b[0m\u001b[0;34m\u001b[0m\u001b[0m\n",
            "\u001b[0;32m/usr/local/lib/python3.6/dist-packages/pandas/io/parsers.py\u001b[0m in \u001b[0;36m__init__\u001b[0;34m(self, src, **kwds)\u001b[0m\n\u001b[1;32m   1996\u001b[0m         \u001b[0mkwds\u001b[0m\u001b[0;34m[\u001b[0m\u001b[0;34m\"usecols\"\u001b[0m\u001b[0;34m]\u001b[0m \u001b[0;34m=\u001b[0m \u001b[0mself\u001b[0m\u001b[0;34m.\u001b[0m\u001b[0musecols\u001b[0m\u001b[0;34m\u001b[0m\u001b[0;34m\u001b[0m\u001b[0m\n\u001b[1;32m   1997\u001b[0m \u001b[0;34m\u001b[0m\u001b[0m\n\u001b[0;32m-> 1998\u001b[0;31m         \u001b[0mself\u001b[0m\u001b[0;34m.\u001b[0m\u001b[0m_reader\u001b[0m \u001b[0;34m=\u001b[0m \u001b[0mparsers\u001b[0m\u001b[0;34m.\u001b[0m\u001b[0mTextReader\u001b[0m\u001b[0;34m(\u001b[0m\u001b[0msrc\u001b[0m\u001b[0;34m,\u001b[0m \u001b[0;34m**\u001b[0m\u001b[0mkwds\u001b[0m\u001b[0;34m)\u001b[0m\u001b[0;34m\u001b[0m\u001b[0;34m\u001b[0m\u001b[0m\n\u001b[0m\u001b[1;32m   1999\u001b[0m         \u001b[0mself\u001b[0m\u001b[0;34m.\u001b[0m\u001b[0munnamed_cols\u001b[0m \u001b[0;34m=\u001b[0m \u001b[0mself\u001b[0m\u001b[0;34m.\u001b[0m\u001b[0m_reader\u001b[0m\u001b[0;34m.\u001b[0m\u001b[0munnamed_cols\u001b[0m\u001b[0;34m\u001b[0m\u001b[0;34m\u001b[0m\u001b[0m\n\u001b[1;32m   2000\u001b[0m \u001b[0;34m\u001b[0m\u001b[0m\n",
            "\u001b[0;32mpandas/_libs/parsers.pyx\u001b[0m in \u001b[0;36mpandas._libs.parsers.TextReader.__cinit__\u001b[0;34m()\u001b[0m\n",
            "\u001b[0;32mpandas/_libs/parsers.pyx\u001b[0m in \u001b[0;36mpandas._libs.parsers.TextReader._setup_parser_source\u001b[0;34m()\u001b[0m\n",
            "\u001b[0;31mFileNotFoundError\u001b[0m: [Errno 2] No such file or directory: 'drive/My Drive/Colab Notebooks/Data/HW1/post-operative.data'"
          ]
        }
      ]
    },
    {
      "cell_type": "code",
      "metadata": {
        "id": "LyQNVRy0GtNp"
      },
      "source": [
        "HW1_data.describe()"
      ],
      "execution_count": null,
      "outputs": []
    },
    {
      "cell_type": "code",
      "metadata": {
        "id": "8Wpb8FeOHwO9"
      },
      "source": [
        "HW1_data['L-CORE'].unique()"
      ],
      "execution_count": null,
      "outputs": []
    },
    {
      "cell_type": "code",
      "metadata": {
        "id": "beL076iyIAdm"
      },
      "source": [
        "HW1_data.head()"
      ],
      "execution_count": null,
      "outputs": []
    },
    {
      "cell_type": "code",
      "metadata": {
        "id": "k7XruzP_IdkN"
      },
      "source": [
        "HW1_data.COMFORT.dtype"
      ],
      "execution_count": null,
      "outputs": []
    },
    {
      "cell_type": "code",
      "metadata": {
        "id": "0-VBHtfQJJ2S"
      },
      "source": [
        "HW1_data.describe()"
      ],
      "execution_count": null,
      "outputs": []
    },
    {
      "cell_type": "code",
      "metadata": {
        "id": "OXcvH8YeLcaC"
      },
      "source": [
        "pd.set_option('display.max_rows', None)\n",
        "print(HW1_data)\n"
      ],
      "execution_count": null,
      "outputs": []
    },
    {
      "cell_type": "markdown",
      "metadata": {
        "id": "pldb1quq-Oko"
      },
      "source": [
        "##Attribute Information:\n",
        "\n",
        "\n",
        "1.   L-CORE (patient's internal temperature in C):\n",
        "              high (> 37), mid (>= 36 and <= 37), low (< 36)\n",
        "2. L-SURF (patient's surface temperature in C):\n",
        "              high (> 36.5), mid (>= 36.5 and <= 35), low (< 35)\n",
        "3. L-O2 (oxygen saturation in %):\n",
        "              excellent (>= 98), good (>= 90 and < 98),\n",
        "              fair (>= 80 and < 90), poor (< 80)\n",
        "4. L-BP (last measurement of blood pressure):\n",
        "              high (> 130/90), mid (<= 130/90 and >= 90/70), low (< 90/70)\n",
        "5. SURF-STBL (stability of patient's surface temperature):\n",
        "              stable, mod-stable, unstable\n",
        "6. CORE-STBL (stability of patient's core temperature)\n",
        "              stable, mod-stable, unstable\n",
        "7. BP-STBL (stability of patient's blood pressure)\n",
        "              stable, mod-stable, unstable\n",
        "8. COMFORT (patient's perceived comfort at discharge, measured as\n",
        "              an integer between 0 and 20)\n",
        "              **  !!Attribute 8 has 3 missing values!!**\n",
        "9. decision ADM-DECS (discharge decision):\n",
        "              I (patient sent to Intensive Care Unit),\n",
        "              S (patient prepared to go home),\n",
        "              A (patient sent to general hospital floor)\n",
        "\n",
        "\n",
        "\n",
        "\n"
      ]
    },
    {
      "cell_type": "markdown",
      "metadata": {
        "id": "VSSa0D9-AX07"
      },
      "source": [
        "## Data visualization\n",
        "First we need to set all the data in order to graph."
      ]
    },
    {
      "cell_type": "markdown",
      "metadata": {
        "id": "P0jnbOw7Jvd5"
      },
      "source": [
        "#Convert datatype\n",
        "We needed to chang the COMFORT data type from python object \"O\" to float "
      ]
    },
    {
      "cell_type": "code",
      "metadata": {
        "id": "ZbhS_okuTIHT"
      },
      "source": [
        "HW1_data.COMFORT.dtype"
      ],
      "execution_count": null,
      "outputs": []
    },
    {
      "cell_type": "markdown",
      "metadata": {
        "id": "5E19XfpZWUWO"
      },
      "source": [
        "Some values can't be converted to a numeric type!\n",
        "The default behaviour is to raise if it can't convert a value. In this case, it can't cope with the string '?':\n",
        "\n",
        "```\n",
        "HW1_data['COMFORT']= pd.to_numeric(HW1_data['COMFORT'])\n",
        "HW1_data.COMFORT.dtype\n",
        "ValueError: Unable to parse string \"?\" at position 46\n",
        "```\n",
        "Rather than fail, we  want '?' to be considered a missing/bad numeric value. We can coerce invalid values to NaN as follows using the errors keyword argumen\n",
        "\n"
      ]
    },
    {
      "cell_type": "code",
      "metadata": {
        "id": "qs94aHhFTS2t"
      },
      "source": [
        "HW1_data['COMFORT']= pd.to_numeric(HW1_data['COMFORT'], errors='coerce')\n",
        "HW1_data.COMFORT.dtype"
      ],
      "execution_count": null,
      "outputs": []
    },
    {
      "cell_type": "code",
      "metadata": {
        "id": "0SuHm9umVSxJ"
      },
      "source": [
        "HW1_data.shape"
      ],
      "execution_count": null,
      "outputs": []
    },
    {
      "cell_type": "code",
      "metadata": {
        "id": "caEKis6ycdK6"
      },
      "source": [
        "HW1_data.describe()"
      ],
      "execution_count": null,
      "outputs": []
    },
    {
      "cell_type": "code",
      "metadata": {
        "id": "utXDLCqEKhVj"
      },
      "source": [
        "np.unique(HW1_data.Decision,return_counts = True)"
      ],
      "execution_count": null,
      "outputs": []
    },
    {
      "cell_type": "markdown",
      "metadata": {
        "id": "vQUHVvR8LwsX"
      },
      "source": [
        "Also we see that there is 4 Decision values because one A is miss input with a space. "
      ]
    },
    {
      "cell_type": "code",
      "metadata": {
        "id": "oCoNLC3YL5cM"
      },
      "source": [
        "HW1_data.Decision = np.where(HW1_data.Decision == 'A ','A',HW1_data.Decision)\n",
        "np.unique(HW1_data.Decision,return_counts = True)"
      ],
      "execution_count": null,
      "outputs": []
    },
    {
      "cell_type": "code",
      "metadata": {
        "id": "y5SHgDa0YXGm"
      },
      "source": [
        "sns.catplot(data=HW1_data, kind=\"violin\", x=\"L-CORE\", y=\"COMFORT\" , hue=\"Decision\" ) \n"
      ],
      "execution_count": null,
      "outputs": []
    },
    {
      "cell_type": "code",
      "metadata": {
        "id": "vbkSVQzpOlb0"
      },
      "source": [
        "sns.catplot(data=HW1_data, kind=\"violin\", x=\"L-SURF\", y=\"COMFORT\" , hue=\"Decision\") \n"
      ],
      "execution_count": null,
      "outputs": []
    },
    {
      "cell_type": "code",
      "metadata": {
        "id": "AUs6O9ktPEED"
      },
      "source": [
        "sns.catplot(data=HW1_data, kind=\"violin\", x=\"L-O2\", y=\"COMFORT\" , hue=\"Decision\") \n"
      ],
      "execution_count": null,
      "outputs": []
    },
    {
      "cell_type": "code",
      "metadata": {
        "id": "LwEmAdWwR__A"
      },
      "source": [
        "sns.catplot(data=HW1_data, kind=\"violin\", x=\"L-BP\", y=\"COMFORT\" , hue=\"Decision\") "
      ],
      "execution_count": null,
      "outputs": []
    },
    {
      "cell_type": "code",
      "metadata": {
        "id": "JJbHcx_7SHzG"
      },
      "source": [
        "sns.catplot(data=HW1_data, kind=\"violin\", x=\"SURF-STBL\", y=\"COMFORT\" , hue=\"Decision\") "
      ],
      "execution_count": null,
      "outputs": []
    },
    {
      "cell_type": "code",
      "metadata": {
        "id": "KYNzf4ybXc0s"
      },
      "source": [
        "sns.catplot(data=HW1_data, kind=\"violin\", x=\"CORE-STBL\", y=\"COMFORT\" , hue=\"Decision\") "
      ],
      "execution_count": null,
      "outputs": []
    },
    {
      "cell_type": "code",
      "metadata": {
        "id": "4dMJ0m9OX_Sr"
      },
      "source": [
        "sns.catplot(data=HW1_data, kind=\"violin\", x=\"BP-STBL\", y=\"COMFORT\" , hue=\"Decision\") "
      ],
      "execution_count": null,
      "outputs": []
    },
    {
      "cell_type": "markdown",
      "metadata": {
        "id": "F_cJi20tYzvu"
      },
      "source": [
        "#Preprocessing "
      ]
    },
    {
      "cell_type": "markdown",
      "metadata": {
        "id": "_Note3sPZFpZ"
      },
      "source": [
        "Mapping ordinal features\n",
        "We have 'L-CORE', 'L-SURF', 'L-O2', 'L-BP', 'SURF-STBL', 'CORE-STBL', 'BP-STBL'."
      ]
    },
    {
      "cell_type": "code",
      "metadata": {
        "id": "rn1iynq_ZZas"
      },
      "source": [
        "temp_size_mapping = {'high': 3,'mid': 2,'low': 1}\n",
        "HW1_data['L-CORE'] = HW1_data['L-CORE'].map(temp_size_mapping)\n",
        "HW1_data['L-SURF'] = HW1_data['L-SURF'].map(temp_size_mapping)"
      ],
      "execution_count": null,
      "outputs": []
    },
    {
      "cell_type": "code",
      "metadata": {
        "id": "8e53k8P0bCD9"
      },
      "source": [
        "O2_size_mapping = {'poor':1,'fair':2,'good':3,'excellent':4}\n",
        "HW1_data['L-O2'] = HW1_data['L-O2'].map(O2_size_mapping)"
      ],
      "execution_count": null,
      "outputs": []
    },
    {
      "cell_type": "code",
      "metadata": {
        "id": "vKdGXV_FbOzR"
      },
      "source": [
        "BP_size_mapping = {'high': 3,'mid': 2,'low': 1}\n",
        "HW1_data['L-BP'] = HW1_data['L-BP'].map(BP_size_mapping)"
      ],
      "execution_count": null,
      "outputs": []
    },
    {
      "cell_type": "code",
      "metadata": {
        "id": "Lq1KfifRbfIW"
      },
      "source": [
        "stbl_size_mapping = {'unstable':1,'mod-stable':2,'stable':3}\n",
        "HW1_data['SURF-STBL'] = HW1_data['SURF-STBL'].map(stbl_size_mapping)\n",
        "HW1_data['CORE-STBL'] = HW1_data['CORE-STBL'].map(stbl_size_mapping)\n",
        "HW1_data['BP-STBL'] = HW1_data['BP-STBL'].map(stbl_size_mapping)"
      ],
      "execution_count": null,
      "outputs": []
    },
    {
      "cell_type": "markdown",
      "metadata": {
        "id": "1SzW-LIweG9J"
      },
      "source": [
        "The categeorical variables neet to transform to one hot encoded, we have the \"Decision\" attribute."
      ]
    },
    {
      "cell_type": "code",
      "metadata": {
        "id": "90bnvl1HbzBF"
      },
      "source": [
        "from sklearn.preprocessing import StandardScaler, OneHotEncoder\n",
        "from sklearn.compose import make_column_transformer\n",
        "\n",
        "preprocess = make_column_transformer(\n",
        "    (OneHotEncoder(), ['Decision']),\n",
        "    (StandardScaler(), ['COMFORT']),\n",
        "    remainder=\"passthrough\"\n",
        ")\n",
        "\n",
        "HW1_data_fit = preprocess.fit_transform(HW1_data)\n",
        "HW1_data_fit.shape\n",
        "pd.DataFrame(HW1_data_fit,columns= ['','','','COMFORT', 'L-CORE', 'L-SURF', 'L-O2', 'L-BP', 'SURF-STBL', 'CORE-STBL', 'BP-STBL'])\n"
      ],
      "execution_count": null,
      "outputs": []
    },
    {
      "cell_type": "markdown",
      "metadata": {
        "id": "hWdY3FrKenye"
      },
      "source": [
        "The 3 first columns are the (discharge decision) info, and then we have the standerd form of conmfort. the rest of the columns are according tho the mappig in the previos steps, 'L-CORE', 'L-SURF', 'L-O2', 'L-BP', 'SURF-STBL', 'CORE-STBL', 'BP-STBL'. "
      ]
    }
  ]
}